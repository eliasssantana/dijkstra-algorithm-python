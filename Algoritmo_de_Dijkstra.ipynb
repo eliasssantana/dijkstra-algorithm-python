{
  "nbformat": 4,
  "nbformat_minor": 0,
  "metadata": {
    "colab": {
      "provenance": [],
      "collapsed_sections": [],
      "authorship_tag": "ABX9TyNy/EgQ741bm3VP8mKRW1Pr",
      "include_colab_link": true
    },
    "kernelspec": {
      "name": "python3",
      "display_name": "Python 3"
    },
    "language_info": {
      "name": "python"
    }
  },
  "cells": [
    {
      "cell_type": "markdown",
      "metadata": {
        "id": "view-in-github",
        "colab_type": "text"
      },
      "source": [
        "<a href=\"https://colab.research.google.com/github/eliasssantana/dijkstra-algorithm-python/blob/main/Algoritmo_de_Dijkstra.ipynb\" target=\"_parent\"><img src=\"https://colab.research.google.com/assets/colab-badge.svg\" alt=\"Open In Colab\"/></a>"
      ]
    },
    {
      "cell_type": "markdown",
      "source": [
        "##Implementando o algoritmo de Dijkstra"
      ],
      "metadata": {
        "id": "WYlvNR565Xhs"
      }
    },
    {
      "cell_type": "markdown",
      "source": [
        "###Criando os grafos"
      ],
      "metadata": {
        "id": "5LGl0oK4_W5l"
      }
    },
    {
      "cell_type": "code",
      "execution_count": null,
      "metadata": {
        "id": "_5kNWdy_4_P1"
      },
      "outputs": [],
      "source": [
        "grafo = {}"
      ]
    },
    {
      "cell_type": "code",
      "source": [
        "grafo[\"inicio\"] = {}\n",
        "grafo[\"inicio\"][\"a\"] = 6\n",
        "grafo[\"inicio\"][\"b\"] = 2"
      ],
      "metadata": {
        "id": "mxZLH4_Z5vvO"
      },
      "execution_count": null,
      "outputs": []
    },
    {
      "cell_type": "code",
      "source": [
        "print(grafo[\"inicio\"])"
      ],
      "metadata": {
        "colab": {
          "base_uri": "https://localhost:8080/"
        },
        "id": "7sjLTgL26LZM",
        "outputId": "00c624df-7a38-428d-9848-38e0e5db2e42"
      },
      "execution_count": null,
      "outputs": [
        {
          "output_type": "stream",
          "name": "stdout",
          "text": [
            "{'a': 6, 'b': 2}\n"
          ]
        }
      ]
    },
    {
      "cell_type": "code",
      "source": [
        "print(grafo[\"inicio\"][\"a\"])"
      ],
      "metadata": {
        "colab": {
          "base_uri": "https://localhost:8080/"
        },
        "id": "TouVkSw-6Ya_",
        "outputId": "fdd24e9f-0b22-4a63-93d6-32b86ceb9472"
      },
      "execution_count": null,
      "outputs": [
        {
          "output_type": "stream",
          "name": "stdout",
          "text": [
            "6\n"
          ]
        }
      ]
    },
    {
      "cell_type": "code",
      "source": [
        "grafo[\"a\"] = {}\n",
        "grafo[\"a\"][\"fim\"] = 1\n",
        "\n",
        "grafo[\"b\"] = {}\n",
        "grafo[\"b\"][\"a\"] = 3\n",
        "grafo[\"b\"][\"fim\"] = 5\n",
        "\n",
        "grafo[\"fim\"] = {}"
      ],
      "metadata": {
        "id": "j9pRVnZF6wge"
      },
      "execution_count": null,
      "outputs": []
    },
    {
      "cell_type": "code",
      "source": [
        "infinito = float(\"inf\")\n",
        "print(infinito, type(infinito))\n",
        "custos = {}\n",
        "custos[\"a\"] = 6\n",
        "custos[\"b\"] = 2\n",
        "custos[\"fim\"] = infinito"
      ],
      "metadata": {
        "colab": {
          "base_uri": "https://localhost:8080/"
        },
        "id": "7Mii9FLP-N00",
        "outputId": "84535e68-b442-4b9e-fa41-75e3b2491eef"
      },
      "execution_count": null,
      "outputs": [
        {
          "output_type": "stream",
          "name": "stdout",
          "text": [
            "inf <class 'float'>\n"
          ]
        }
      ]
    },
    {
      "cell_type": "code",
      "source": [
        "pais = {}\n",
        "pais[\"a\"] = \"inicio\"\n",
        "pais[\"b\"] = \"inicio\"\n",
        "pais[\"fim\"] = None\n",
        "\n",
        "print(pais)"
      ],
      "metadata": {
        "colab": {
          "base_uri": "https://localhost:8080/"
        },
        "id": "DR7hfDl9-sPK",
        "outputId": "53a9398b-0698-4225-e99e-8b0257ee3acf"
      },
      "execution_count": null,
      "outputs": [
        {
          "output_type": "stream",
          "name": "stdout",
          "text": [
            "{'a': 'inicio', 'b': 'inicio', 'fim': None}\n"
          ]
        }
      ]
    },
    {
      "cell_type": "code",
      "source": [
        "processados = []"
      ],
      "metadata": {
        "id": "pkT_9Hwo_EtK"
      },
      "execution_count": null,
      "outputs": []
    },
    {
      "cell_type": "markdown",
      "source": [
        "### Criando o algoritmo de Dijkstra"
      ],
      "metadata": {
        "id": "jCIINRzJ_dAz"
      }
    },
    {
      "cell_type": "code",
      "source": [
        "def ache_nodo_custo_mais_baixo(custos):\n",
        "  custo_mais_baixo = float(\"inf\")\n",
        "  nodo_custo_mais_baixo = None\n",
        "  for nodo in custos:\n",
        "    custo = custos[nodo]\n",
        "    if custo < custo_mais_baixo and nodo not in processados:\n",
        "      custo_mais_baixo = custo\n",
        "      nodo_custo_mais_baixo = nodo\n",
        "  return nodo_custo_mais_baixo"
      ],
      "metadata": {
        "id": "Nzu2_APmSJkt"
      },
      "execution_count": null,
      "outputs": []
    },
    {
      "cell_type": "code",
      "source": [
        "nodo = ache_nodo_custo_mais_baixo(custos)\n",
        "\n",
        "while nodo is not None:\n",
        "  custo = custos[nodo]\n",
        "  vizinhos = grafo[nodo]\n",
        "  for n in vizinhos.keys():\n",
        "    novo_custo = custo + vizinhos[n]\n",
        "    if custos[n] > novo_custo:\n",
        "      custos[n] = novo_custo\n",
        "      pais[n] = nodo\n",
        "  processados.append(nodo)\n",
        "  nodo = ache_nodo_custo_mais_baixo(custos)"
      ],
      "metadata": {
        "id": "LZ0C2P9Y_kHH"
      },
      "execution_count": null,
      "outputs": []
    }
  ]
}